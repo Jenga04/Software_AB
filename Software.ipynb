{
  "nbformat": 4,
  "nbformat_minor": 0,
  "metadata": {
    "colab": {
      "provenance": [],
      "authorship_tag": "ABX9TyN7m1sJphoKAr6lAFa002kR",
      "include_colab_link": true
    },
    "kernelspec": {
      "name": "python3",
      "display_name": "Python 3"
    },
    "language_info": {
      "name": "python"
    }
  },
  "cells": [
    {
      "cell_type": "markdown",
      "metadata": {
        "id": "view-in-github",
        "colab_type": "text"
      },
      "source": [
        "<a href=\"https://colab.research.google.com/github/Jenga04/Software_AB/blob/main/Software.ipynb\" target=\"_parent\"><img src=\"https://colab.research.google.com/assets/colab-badge.svg\" alt=\"Open In Colab\"/></a>"
      ]
    },
    {
      "cell_type": "code",
      "execution_count": 9,
      "metadata": {
        "collapsed": true,
        "id": "fqvbXjACJO5G"
      },
      "outputs": [],
      "source": [
        "import pandas as pd\n",
        "\n",
        "class Libreta:\n",
        "    def _init_(self):\n",
        "      self.contactos=pd.DataFrame(columns=[\"Nombre\",\"Apellido\",\"Teléfono\",\"Dirección\",\"Empleo\"])\n",
        "    def agregar_contacto(self, nombre, apellido, telefono, direccion, empleo):\n",
        "      nuevo_contacto= pd.DataFrame([[nombre, apellido, telefono, direccion, empleo]], columns=[\"Nombre\", \"Apellido\", \"Teléfono\", \"Dirección\", \"Empleo\"])\n",
        "      self.contacto=self.contacto.append(nuevo_contacto, ignore_index=True)\n",
        "    def buscar_contacto_por_nombre(self,atributo,valor):\n",
        "      resultado=self.contactos[self.contactos[atributo]==valor]\n",
        "      return resultado if not resultado.empty else None\n",
        "    def modificar_contacto(self, atributo, valor, nuevos_datos):\n",
        "      indice=self.contactos[self.contactos[atributo]==valor].index\n",
        "      if not indice.empty:\n",
        "        self.contactos.loc[indice[0]]= nuevos_datos\n",
        "        return \"Contacto modificado\"\n",
        "      else:\n",
        "        return \"Contacto no encontrado\"\n",
        "    def eliminar_contacto(self,atributo,valor):\n",
        "      indice=self.contactos[self.contactos[atributo]==valor].index\n",
        "      if not indice.empty:\n",
        "        self.contactos.drop(indice, inplace=True)\n",
        "        return \"Contacto eliminado\"\n",
        "      else:\n",
        "        return \"Contacto no encontrado\""
      ]
    }
  ]
}