{
  "nbformat": 4,
  "nbformat_minor": 0,
  "metadata": {
    "colab": {
      "provenance": [],
      "authorship_tag": "ABX9TyN7dt9j/p693HoeRl4mZJhT",
      "include_colab_link": true
    },
    "kernelspec": {
      "name": "python3",
      "display_name": "Python 3"
    },
    "language_info": {
      "name": "python"
    }
  },
  "cells": [
    {
      "cell_type": "markdown",
      "metadata": {
        "id": "view-in-github",
        "colab_type": "text"
      },
      "source": [
        "<a href=\"https://colab.research.google.com/github/Jenga04/Software_AB/blob/main/AB.ipynb\" target=\"_parent\"><img src=\"https://colab.research.google.com/assets/colab-badge.svg\" alt=\"Open In Colab\"/></a>"
      ]
    },
    {
      "cell_type": "code",
      "execution_count": 150,
      "metadata": {
        "collapsed": true,
        "id": "fqvbXjACJO5G"
      },
      "outputs": [],
      "source": [
        "import pandas as pd\n",
        "\n",
        "class Libreta:\n",
        "    def __init__(self):\n",
        "      self.contactos=pd.DataFrame(columns=[\"Nombre\",\"Apellido\",\"Teléfono\",\"Dirección\",\"Empleo\"])\n",
        "\n",
        "    def añadir_contacto_nuevo(self, nombre, apellido, telefono, direccion, empleo):\n",
        "      nuevo_contacto= pd.DataFrame([[nombre, apellido, telefono, direccion, empleo]], columns=[\"Nombre\", \"Apellido\", \"Teléfono\", \"Dirección\", \"Empleo\"])\n",
        "      self.contactos = self.contactos.append(nuevo_contacto, ignore_index=True)\n",
        "    def buscar_contacto(self,atributo,valor):\n",
        "      resultado=self.contactos[self.contactos[atributo]==valor]\n",
        "      return resultado if not resultado.empty else None\n",
        "    def modificar_contacto(self, atributo, valor, nuevos_datos):\n",
        "      indice=self.contactos[self.contactos[atributo]==valor].index\n",
        "      if not indice.empty:\n",
        "        self.contactos.loc[indice[0]]= nuevos_datos\n",
        "        return \"Contacto modificado\"\n",
        "      else:\n",
        "        return \"Contacto no encontrado\"\n",
        "    def eliminar_contacto(self,atributo,valor):\n",
        "      indice=self.contactos[self.contactos[atributo]==valor].index\n",
        "      if not indice.empty:\n",
        "        self.contactos.drop(indice, inplace=True)\n",
        "        return \"Contacto eliminado\"\n",
        "      else:\n",
        "        return \"Contacto no encontrado\""
      ]
    },
    {
      "cell_type": "markdown",
      "source": [
        "Prueba E2E"
      ],
      "metadata": {
        "id": "WsyFSoLSYA2I"
      }
    },
    {
      "cell_type": "code",
      "source": [
        "libreta= Libreta()\n",
        "libreta.añadir_contacto_nuevo(\"Jeremy James\",\"Atkinson Newnham\",606384513, \"Calle Río Darro 6 Bloque B Bajo D\", \"Barman\")\n",
        "print(libreta.concactos)\n"
      ],
      "metadata": {
        "id": "u-VUTfPdYDu1"
      },
      "execution_count": null,
      "outputs": []
    },
    {
      "cell_type": "markdown",
      "source": [
        "Pruebas unitarias"
      ],
      "metadata": {
        "id": "nnC2d82eq7Zf"
      }
    },
    {
      "cell_type": "code",
      "source": [
        "libreta=Libreta()\n",
        "libreta.añadir_contacto_nuevo(\"Jeremy James\",\"Atkinson Newnham\",606384513, \"Calle Río Darro 6 Bloque B Bajo D\", \"Barman\")\n",
        "nombre_buscado= \"Jeremy James\"\n",
        "resultado_busqueda= libreta.buscar_contacto(\"Nombre\", nombre_buscado)\n",
        "if resultado_busqueda is not None:\n",
        "  print(resultado_busqueda)\n",
        "else:\n",
        "  print(\"No se encontró ningún contacto con el nombre Jeremy James.\")"
      ],
      "metadata": {
        "id": "Rahp8x28q-NP"
      },
      "execution_count": null,
      "outputs": []
    },
    {
      "cell_type": "markdown",
      "source": [
        "UAT"
      ],
      "metadata": {
        "id": "cIoDiU0X1EbR"
      }
    },
    {
      "cell_type": "code",
      "source": [
        "libreta=Libreta\n",
        "atributo_busqueda= \"Nombre\", \"Apellido\"\n",
        "valor_busqueda= \"Jeremy James\", \"Atkinson Newnham\"\n",
        "nuevos_datos = {\n",
        "    \"Nombre\":\"David\",\n",
        "    \"Apellido\":\"Atkinson\"\n",
        "    }\n",
        "resultado_modificacion = libreta.modificar_contacto (atributo_busqueda, valor_busqueda, nuevos_datos)\n",
        "print (resultado_modificacion)\n"
      ],
      "metadata": {
        "id": "wtL6kI-C1Hmf"
      },
      "execution_count": null,
      "outputs": []
    },
    {
      "cell_type": "markdown",
      "source": [
        "Pruebas de regresión"
      ],
      "metadata": {
        "id": "1XGSmcuV4Nsg"
      }
    },
    {
      "cell_type": "code",
      "source": [
        "contacto_modificado = libreta.buscar_contacto (atributo_busqueda, valor_busqueda)\n",
        "print (contacto_modificado)"
      ],
      "metadata": {
        "id": "tofo7weS4M5x"
      },
      "execution_count": null,
      "outputs": []
    }
  ]
}